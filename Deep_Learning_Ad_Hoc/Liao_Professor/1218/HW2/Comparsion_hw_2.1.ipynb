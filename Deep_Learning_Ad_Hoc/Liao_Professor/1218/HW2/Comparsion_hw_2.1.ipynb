{
 "cells": [
  {
   "attachments": {},
   "cell_type": "markdown",
   "metadata": {},
   "source": [
    "## Performance compare (change epoch time from 1 to 5)"
   ]
  },
  {
   "attachments": {},
   "cell_type": "markdown",
   "metadata": {},
   "source": [
    "|state\\category| loss = mse | loss = crossentropy |\n",
    "|---| --- | --- |\n",
    "create a model and train it|![](../srcs/1-1.png)|![](../srcs/1.png)\n",
    "result|![](../srcs/2.png)|![](../srcs/3.png)"
   ]
  }
 ],
 "metadata": {
  "kernelspec": {
   "display_name": "Python 3",
   "language": "python",
   "name": "python3"
  },
  "language_info": {
   "name": "python",
   "version": "3.10.9 (tags/v3.10.9:1dd9be6, Dec  6 2022, 20:01:21) [MSC v.1934 64 bit (AMD64)]"
  },
  "orig_nbformat": 4,
  "vscode": {
   "interpreter": {
    "hash": "8a85b7bf7c779ed67bccf8ae1048f09ef25809d9114b21b047a7bffa30bad8e0"
   }
  }
 },
 "nbformat": 4,
 "nbformat_minor": 2
}
