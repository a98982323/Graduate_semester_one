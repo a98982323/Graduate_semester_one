{
  "cells": [
    {
      "cell_type": "markdown",
      "metadata": {
        "id": "66dCd5Xjm0Ip"
      },
      "source": [
        "csv ref : https://www.kaggle.com/code/parulpandey/penguin-dataset-the-new-iris/data"
      ]
    },
    {
      "cell_type": "code",
      "execution_count": 2,
      "metadata": {
        "colab": {
          "base_uri": "https://localhost:8080/",
          "height": 424
        },
        "id": "CwAtr6ddm0Is",
        "outputId": "5a913fa9-523e-46d7-a4cd-3b9b9497af80"
      },
      "outputs": [
        {
          "data": {
            "text/html": [
              "<div>\n",
              "<style scoped>\n",
              "    .dataframe tbody tr th:only-of-type {\n",
              "        vertical-align: middle;\n",
              "    }\n",
              "\n",
              "    .dataframe tbody tr th {\n",
              "        vertical-align: top;\n",
              "    }\n",
              "\n",
              "    .dataframe thead th {\n",
              "        text-align: right;\n",
              "    }\n",
              "</style>\n",
              "<table border=\"1\" class=\"dataframe\">\n",
              "  <thead>\n",
              "    <tr style=\"text-align: right;\">\n",
              "      <th></th>\n",
              "      <th>species</th>\n",
              "      <th>island</th>\n",
              "      <th>culmen_length_mm</th>\n",
              "      <th>culmen_depth_mm</th>\n",
              "      <th>flipper_length_mm</th>\n",
              "      <th>body_mass_g</th>\n",
              "      <th>sex</th>\n",
              "    </tr>\n",
              "  </thead>\n",
              "  <tbody>\n",
              "    <tr>\n",
              "      <th>0</th>\n",
              "      <td>Adelie</td>\n",
              "      <td>Torgersen</td>\n",
              "      <td>39.1</td>\n",
              "      <td>18.7</td>\n",
              "      <td>181.0</td>\n",
              "      <td>3750.0</td>\n",
              "      <td>MALE</td>\n",
              "    </tr>\n",
              "    <tr>\n",
              "      <th>1</th>\n",
              "      <td>Adelie</td>\n",
              "      <td>Torgersen</td>\n",
              "      <td>39.5</td>\n",
              "      <td>17.4</td>\n",
              "      <td>186.0</td>\n",
              "      <td>3800.0</td>\n",
              "      <td>FEMALE</td>\n",
              "    </tr>\n",
              "    <tr>\n",
              "      <th>2</th>\n",
              "      <td>Adelie</td>\n",
              "      <td>Torgersen</td>\n",
              "      <td>40.3</td>\n",
              "      <td>18.0</td>\n",
              "      <td>195.0</td>\n",
              "      <td>3250.0</td>\n",
              "      <td>FEMALE</td>\n",
              "    </tr>\n",
              "    <tr>\n",
              "      <th>3</th>\n",
              "      <td>Adelie</td>\n",
              "      <td>Torgersen</td>\n",
              "      <td>NaN</td>\n",
              "      <td>NaN</td>\n",
              "      <td>NaN</td>\n",
              "      <td>NaN</td>\n",
              "      <td>NaN</td>\n",
              "    </tr>\n",
              "    <tr>\n",
              "      <th>4</th>\n",
              "      <td>Adelie</td>\n",
              "      <td>Torgersen</td>\n",
              "      <td>36.7</td>\n",
              "      <td>19.3</td>\n",
              "      <td>193.0</td>\n",
              "      <td>3450.0</td>\n",
              "      <td>FEMALE</td>\n",
              "    </tr>\n",
              "    <tr>\n",
              "      <th>...</th>\n",
              "      <td>...</td>\n",
              "      <td>...</td>\n",
              "      <td>...</td>\n",
              "      <td>...</td>\n",
              "      <td>...</td>\n",
              "      <td>...</td>\n",
              "      <td>...</td>\n",
              "    </tr>\n",
              "    <tr>\n",
              "      <th>339</th>\n",
              "      <td>Gentoo</td>\n",
              "      <td>Biscoe</td>\n",
              "      <td>NaN</td>\n",
              "      <td>NaN</td>\n",
              "      <td>NaN</td>\n",
              "      <td>NaN</td>\n",
              "      <td>NaN</td>\n",
              "    </tr>\n",
              "    <tr>\n",
              "      <th>340</th>\n",
              "      <td>Gentoo</td>\n",
              "      <td>Biscoe</td>\n",
              "      <td>46.8</td>\n",
              "      <td>14.3</td>\n",
              "      <td>215.0</td>\n",
              "      <td>4850.0</td>\n",
              "      <td>FEMALE</td>\n",
              "    </tr>\n",
              "    <tr>\n",
              "      <th>341</th>\n",
              "      <td>Gentoo</td>\n",
              "      <td>Biscoe</td>\n",
              "      <td>50.4</td>\n",
              "      <td>15.7</td>\n",
              "      <td>222.0</td>\n",
              "      <td>5750.0</td>\n",
              "      <td>MALE</td>\n",
              "    </tr>\n",
              "    <tr>\n",
              "      <th>342</th>\n",
              "      <td>Gentoo</td>\n",
              "      <td>Biscoe</td>\n",
              "      <td>45.2</td>\n",
              "      <td>14.8</td>\n",
              "      <td>212.0</td>\n",
              "      <td>5200.0</td>\n",
              "      <td>FEMALE</td>\n",
              "    </tr>\n",
              "    <tr>\n",
              "      <th>343</th>\n",
              "      <td>Gentoo</td>\n",
              "      <td>Biscoe</td>\n",
              "      <td>49.9</td>\n",
              "      <td>16.1</td>\n",
              "      <td>213.0</td>\n",
              "      <td>5400.0</td>\n",
              "      <td>MALE</td>\n",
              "    </tr>\n",
              "  </tbody>\n",
              "</table>\n",
              "<p>344 rows × 7 columns</p>\n",
              "</div>"
            ],
            "text/plain": [
              "    species     island  culmen_length_mm  culmen_depth_mm  flipper_length_mm  \\\n",
              "0    Adelie  Torgersen              39.1             18.7              181.0   \n",
              "1    Adelie  Torgersen              39.5             17.4              186.0   \n",
              "2    Adelie  Torgersen              40.3             18.0              195.0   \n",
              "3    Adelie  Torgersen               NaN              NaN                NaN   \n",
              "4    Adelie  Torgersen              36.7             19.3              193.0   \n",
              "..      ...        ...               ...              ...                ...   \n",
              "339  Gentoo     Biscoe               NaN              NaN                NaN   \n",
              "340  Gentoo     Biscoe              46.8             14.3              215.0   \n",
              "341  Gentoo     Biscoe              50.4             15.7              222.0   \n",
              "342  Gentoo     Biscoe              45.2             14.8              212.0   \n",
              "343  Gentoo     Biscoe              49.9             16.1              213.0   \n",
              "\n",
              "     body_mass_g     sex  \n",
              "0         3750.0    MALE  \n",
              "1         3800.0  FEMALE  \n",
              "2         3250.0  FEMALE  \n",
              "3            NaN     NaN  \n",
              "4         3450.0  FEMALE  \n",
              "..           ...     ...  \n",
              "339          NaN     NaN  \n",
              "340       4850.0  FEMALE  \n",
              "341       5750.0    MALE  \n",
              "342       5200.0  FEMALE  \n",
              "343       5400.0    MALE  \n",
              "\n",
              "[344 rows x 7 columns]"
            ]
          },
          "execution_count": 2,
          "metadata": {},
          "output_type": "execute_result"
        }
      ],
      "source": [
        "import pandas as pd\n",
        "penguin_df = pd.read_csv('../penguins_size.csv')\n",
        "penguin_df"
      ]
    },
    {
      "cell_type": "markdown",
      "metadata": {
        "id": "9X-dmty2m0Iu"
      },
      "source": [
        "#### Edit csv file with the following steps\n",
        "* Delete island\n",
        "* Delete sex\n",
        "* Replace Adelie with 0\n",
        "* Replace Chinstrap with 1 • Replace Gentoo with 2\n",
        "* Move species"
      ]
    },
    {
      "cell_type": "code",
      "execution_count": 4,
      "metadata": {
        "colab": {
          "base_uri": "https://localhost:8080/",
          "height": 424
        },
        "id": "9I5dRmjOm0Iv",
        "outputId": "bf606d9a-19fb-4705-9723-484b6d99ab4d"
      },
      "outputs": [
        {
          "data": {
            "text/html": [
              "<div>\n",
              "<style scoped>\n",
              "    .dataframe tbody tr th:only-of-type {\n",
              "        vertical-align: middle;\n",
              "    }\n",
              "\n",
              "    .dataframe tbody tr th {\n",
              "        vertical-align: top;\n",
              "    }\n",
              "\n",
              "    .dataframe thead th {\n",
              "        text-align: right;\n",
              "    }\n",
              "</style>\n",
              "<table border=\"1\" class=\"dataframe\">\n",
              "  <thead>\n",
              "    <tr style=\"text-align: right;\">\n",
              "      <th></th>\n",
              "      <th>culmen_length_mm</th>\n",
              "      <th>culmen_depth_mm</th>\n",
              "      <th>flipper_length_mm</th>\n",
              "      <th>body_mass_g</th>\n",
              "      <th>species</th>\n",
              "    </tr>\n",
              "  </thead>\n",
              "  <tbody>\n",
              "    <tr>\n",
              "      <th>0</th>\n",
              "      <td>39.1</td>\n",
              "      <td>18.7</td>\n",
              "      <td>181.0</td>\n",
              "      <td>3750.0</td>\n",
              "      <td>0</td>\n",
              "    </tr>\n",
              "    <tr>\n",
              "      <th>1</th>\n",
              "      <td>39.5</td>\n",
              "      <td>17.4</td>\n",
              "      <td>186.0</td>\n",
              "      <td>3800.0</td>\n",
              "      <td>0</td>\n",
              "    </tr>\n",
              "    <tr>\n",
              "      <th>2</th>\n",
              "      <td>40.3</td>\n",
              "      <td>18.0</td>\n",
              "      <td>195.0</td>\n",
              "      <td>3250.0</td>\n",
              "      <td>0</td>\n",
              "    </tr>\n",
              "    <tr>\n",
              "      <th>4</th>\n",
              "      <td>36.7</td>\n",
              "      <td>19.3</td>\n",
              "      <td>193.0</td>\n",
              "      <td>3450.0</td>\n",
              "      <td>0</td>\n",
              "    </tr>\n",
              "    <tr>\n",
              "      <th>5</th>\n",
              "      <td>39.3</td>\n",
              "      <td>20.6</td>\n",
              "      <td>190.0</td>\n",
              "      <td>3650.0</td>\n",
              "      <td>0</td>\n",
              "    </tr>\n",
              "    <tr>\n",
              "      <th>...</th>\n",
              "      <td>...</td>\n",
              "      <td>...</td>\n",
              "      <td>...</td>\n",
              "      <td>...</td>\n",
              "      <td>...</td>\n",
              "    </tr>\n",
              "    <tr>\n",
              "      <th>338</th>\n",
              "      <td>47.2</td>\n",
              "      <td>13.7</td>\n",
              "      <td>214.0</td>\n",
              "      <td>4925.0</td>\n",
              "      <td>2</td>\n",
              "    </tr>\n",
              "    <tr>\n",
              "      <th>340</th>\n",
              "      <td>46.8</td>\n",
              "      <td>14.3</td>\n",
              "      <td>215.0</td>\n",
              "      <td>4850.0</td>\n",
              "      <td>2</td>\n",
              "    </tr>\n",
              "    <tr>\n",
              "      <th>341</th>\n",
              "      <td>50.4</td>\n",
              "      <td>15.7</td>\n",
              "      <td>222.0</td>\n",
              "      <td>5750.0</td>\n",
              "      <td>2</td>\n",
              "    </tr>\n",
              "    <tr>\n",
              "      <th>342</th>\n",
              "      <td>45.2</td>\n",
              "      <td>14.8</td>\n",
              "      <td>212.0</td>\n",
              "      <td>5200.0</td>\n",
              "      <td>2</td>\n",
              "    </tr>\n",
              "    <tr>\n",
              "      <th>343</th>\n",
              "      <td>49.9</td>\n",
              "      <td>16.1</td>\n",
              "      <td>213.0</td>\n",
              "      <td>5400.0</td>\n",
              "      <td>2</td>\n",
              "    </tr>\n",
              "  </tbody>\n",
              "</table>\n",
              "<p>342 rows × 5 columns</p>\n",
              "</div>"
            ],
            "text/plain": [
              "     culmen_length_mm  culmen_depth_mm  flipper_length_mm  body_mass_g  \\\n",
              "0                39.1             18.7              181.0       3750.0   \n",
              "1                39.5             17.4              186.0       3800.0   \n",
              "2                40.3             18.0              195.0       3250.0   \n",
              "4                36.7             19.3              193.0       3450.0   \n",
              "5                39.3             20.6              190.0       3650.0   \n",
              "..                ...              ...                ...          ...   \n",
              "338              47.2             13.7              214.0       4925.0   \n",
              "340              46.8             14.3              215.0       4850.0   \n",
              "341              50.4             15.7              222.0       5750.0   \n",
              "342              45.2             14.8              212.0       5200.0   \n",
              "343              49.9             16.1              213.0       5400.0   \n",
              "\n",
              "     species  \n",
              "0          0  \n",
              "1          0  \n",
              "2          0  \n",
              "4          0  \n",
              "5          0  \n",
              "..       ...  \n",
              "338        2  \n",
              "340        2  \n",
              "341        2  \n",
              "342        2  \n",
              "343        2  \n",
              "\n",
              "[342 rows x 5 columns]"
            ]
          },
          "execution_count": 4,
          "metadata": {},
          "output_type": "execute_result"
        }
      ],
      "source": [
        "penguin_size_df = pd.read_csv('../penguin_size_edited.csv').dropna()\n",
        "penguin_size_df"
      ]
    },
    {
      "cell_type": "code",
      "execution_count": 5,
      "metadata": {
        "colab": {
          "base_uri": "https://localhost:8080/",
          "height": 424
        },
        "id": "vU0MRzBbm0Iw",
        "outputId": "d90c21d2-877c-4b4b-9f97-ab14e08f6e8e"
      },
      "outputs": [
        {
          "data": {
            "text/html": [
              "<div>\n",
              "<style scoped>\n",
              "    .dataframe tbody tr th:only-of-type {\n",
              "        vertical-align: middle;\n",
              "    }\n",
              "\n",
              "    .dataframe tbody tr th {\n",
              "        vertical-align: top;\n",
              "    }\n",
              "\n",
              "    .dataframe thead th {\n",
              "        text-align: right;\n",
              "    }\n",
              "</style>\n",
              "<table border=\"1\" class=\"dataframe\">\n",
              "  <thead>\n",
              "    <tr style=\"text-align: right;\">\n",
              "      <th></th>\n",
              "      <th>culmen_length_mm</th>\n",
              "      <th>culmen_depth_mm</th>\n",
              "      <th>flipper_length_mm</th>\n",
              "      <th>body_mass_g</th>\n",
              "      <th>species</th>\n",
              "    </tr>\n",
              "  </thead>\n",
              "  <tbody>\n",
              "    <tr>\n",
              "      <th>0</th>\n",
              "      <td>39.1</td>\n",
              "      <td>18.7</td>\n",
              "      <td>18.1</td>\n",
              "      <td>37.50</td>\n",
              "      <td>0</td>\n",
              "    </tr>\n",
              "    <tr>\n",
              "      <th>1</th>\n",
              "      <td>39.5</td>\n",
              "      <td>17.4</td>\n",
              "      <td>18.6</td>\n",
              "      <td>38.00</td>\n",
              "      <td>0</td>\n",
              "    </tr>\n",
              "    <tr>\n",
              "      <th>2</th>\n",
              "      <td>40.3</td>\n",
              "      <td>18.0</td>\n",
              "      <td>19.5</td>\n",
              "      <td>32.50</td>\n",
              "      <td>0</td>\n",
              "    </tr>\n",
              "    <tr>\n",
              "      <th>4</th>\n",
              "      <td>36.7</td>\n",
              "      <td>19.3</td>\n",
              "      <td>19.3</td>\n",
              "      <td>34.50</td>\n",
              "      <td>0</td>\n",
              "    </tr>\n",
              "    <tr>\n",
              "      <th>5</th>\n",
              "      <td>39.3</td>\n",
              "      <td>20.6</td>\n",
              "      <td>19.0</td>\n",
              "      <td>36.50</td>\n",
              "      <td>0</td>\n",
              "    </tr>\n",
              "    <tr>\n",
              "      <th>...</th>\n",
              "      <td>...</td>\n",
              "      <td>...</td>\n",
              "      <td>...</td>\n",
              "      <td>...</td>\n",
              "      <td>...</td>\n",
              "    </tr>\n",
              "    <tr>\n",
              "      <th>338</th>\n",
              "      <td>47.2</td>\n",
              "      <td>13.7</td>\n",
              "      <td>21.4</td>\n",
              "      <td>49.25</td>\n",
              "      <td>2</td>\n",
              "    </tr>\n",
              "    <tr>\n",
              "      <th>340</th>\n",
              "      <td>46.8</td>\n",
              "      <td>14.3</td>\n",
              "      <td>21.5</td>\n",
              "      <td>48.50</td>\n",
              "      <td>2</td>\n",
              "    </tr>\n",
              "    <tr>\n",
              "      <th>341</th>\n",
              "      <td>50.4</td>\n",
              "      <td>15.7</td>\n",
              "      <td>22.2</td>\n",
              "      <td>57.50</td>\n",
              "      <td>2</td>\n",
              "    </tr>\n",
              "    <tr>\n",
              "      <th>342</th>\n",
              "      <td>45.2</td>\n",
              "      <td>14.8</td>\n",
              "      <td>21.2</td>\n",
              "      <td>52.00</td>\n",
              "      <td>2</td>\n",
              "    </tr>\n",
              "    <tr>\n",
              "      <th>343</th>\n",
              "      <td>49.9</td>\n",
              "      <td>16.1</td>\n",
              "      <td>21.3</td>\n",
              "      <td>54.00</td>\n",
              "      <td>2</td>\n",
              "    </tr>\n",
              "  </tbody>\n",
              "</table>\n",
              "<p>342 rows × 5 columns</p>\n",
              "</div>"
            ],
            "text/plain": [
              "     culmen_length_mm  culmen_depth_mm  flipper_length_mm  body_mass_g  \\\n",
              "0                39.1             18.7               18.1        37.50   \n",
              "1                39.5             17.4               18.6        38.00   \n",
              "2                40.3             18.0               19.5        32.50   \n",
              "4                36.7             19.3               19.3        34.50   \n",
              "5                39.3             20.6               19.0        36.50   \n",
              "..                ...              ...                ...          ...   \n",
              "338              47.2             13.7               21.4        49.25   \n",
              "340              46.8             14.3               21.5        48.50   \n",
              "341              50.4             15.7               22.2        57.50   \n",
              "342              45.2             14.8               21.2        52.00   \n",
              "343              49.9             16.1               21.3        54.00   \n",
              "\n",
              "     species  \n",
              "0          0  \n",
              "1          0  \n",
              "2          0  \n",
              "4          0  \n",
              "5          0  \n",
              "..       ...  \n",
              "338        2  \n",
              "340        2  \n",
              "341        2  \n",
              "342        2  \n",
              "343        2  \n",
              "\n",
              "[342 rows x 5 columns]"
            ]
          },
          "execution_count": 5,
          "metadata": {},
          "output_type": "execute_result"
        }
      ],
      "source": [
        "penguin_size_df['flipper_length_mm'] = penguin_size_df['flipper_length_mm']/ 10\n",
        "penguin_size_df['body_mass_g'] = penguin_size_df['body_mass_g']/100\n",
        "penguin_size_df"
      ]
    },
    {
      "cell_type": "code",
      "execution_count": 6,
      "metadata": {
        "colab": {
          "base_uri": "https://localhost:8080/",
          "height": 424
        },
        "id": "vBPEPv1am0Iw",
        "outputId": "22bdbbef-4078-45e5-d979-fc5ac45e9a77"
      },
      "outputs": [
        {
          "name": "stderr",
          "output_type": "stream",
          "text": [
            "C:\\Users\\a1314\\AppData\\Local\\Temp\\ipykernel_7824\\1203481620.py:2: FutureWarning: The frame.append method is deprecated and will be removed from pandas in a future version. Use pandas.concat instead.\n",
            "  penguin_size_df = penguin_size_df.append(penguin_size_df)\n",
            "C:\\Users\\a1314\\AppData\\Local\\Temp\\ipykernel_7824\\1203481620.py:2: FutureWarning: The frame.append method is deprecated and will be removed from pandas in a future version. Use pandas.concat instead.\n",
            "  penguin_size_df = penguin_size_df.append(penguin_size_df)\n"
          ]
        },
        {
          "data": {
            "text/html": [
              "<div>\n",
              "<style scoped>\n",
              "    .dataframe tbody tr th:only-of-type {\n",
              "        vertical-align: middle;\n",
              "    }\n",
              "\n",
              "    .dataframe tbody tr th {\n",
              "        vertical-align: top;\n",
              "    }\n",
              "\n",
              "    .dataframe thead th {\n",
              "        text-align: right;\n",
              "    }\n",
              "</style>\n",
              "<table border=\"1\" class=\"dataframe\">\n",
              "  <thead>\n",
              "    <tr style=\"text-align: right;\">\n",
              "      <th></th>\n",
              "      <th>culmen_length_mm</th>\n",
              "      <th>culmen_depth_mm</th>\n",
              "      <th>flipper_length_mm</th>\n",
              "      <th>body_mass_g</th>\n",
              "      <th>species</th>\n",
              "    </tr>\n",
              "  </thead>\n",
              "  <tbody>\n",
              "    <tr>\n",
              "      <th>0</th>\n",
              "      <td>39.1</td>\n",
              "      <td>18.7</td>\n",
              "      <td>18.1</td>\n",
              "      <td>37.50</td>\n",
              "      <td>0</td>\n",
              "    </tr>\n",
              "    <tr>\n",
              "      <th>1</th>\n",
              "      <td>39.5</td>\n",
              "      <td>17.4</td>\n",
              "      <td>18.6</td>\n",
              "      <td>38.00</td>\n",
              "      <td>0</td>\n",
              "    </tr>\n",
              "    <tr>\n",
              "      <th>2</th>\n",
              "      <td>40.3</td>\n",
              "      <td>18.0</td>\n",
              "      <td>19.5</td>\n",
              "      <td>32.50</td>\n",
              "      <td>0</td>\n",
              "    </tr>\n",
              "    <tr>\n",
              "      <th>4</th>\n",
              "      <td>36.7</td>\n",
              "      <td>19.3</td>\n",
              "      <td>19.3</td>\n",
              "      <td>34.50</td>\n",
              "      <td>0</td>\n",
              "    </tr>\n",
              "    <tr>\n",
              "      <th>5</th>\n",
              "      <td>39.3</td>\n",
              "      <td>20.6</td>\n",
              "      <td>19.0</td>\n",
              "      <td>36.50</td>\n",
              "      <td>0</td>\n",
              "    </tr>\n",
              "    <tr>\n",
              "      <th>...</th>\n",
              "      <td>...</td>\n",
              "      <td>...</td>\n",
              "      <td>...</td>\n",
              "      <td>...</td>\n",
              "      <td>...</td>\n",
              "    </tr>\n",
              "    <tr>\n",
              "      <th>338</th>\n",
              "      <td>47.2</td>\n",
              "      <td>13.7</td>\n",
              "      <td>21.4</td>\n",
              "      <td>49.25</td>\n",
              "      <td>2</td>\n",
              "    </tr>\n",
              "    <tr>\n",
              "      <th>340</th>\n",
              "      <td>46.8</td>\n",
              "      <td>14.3</td>\n",
              "      <td>21.5</td>\n",
              "      <td>48.50</td>\n",
              "      <td>2</td>\n",
              "    </tr>\n",
              "    <tr>\n",
              "      <th>341</th>\n",
              "      <td>50.4</td>\n",
              "      <td>15.7</td>\n",
              "      <td>22.2</td>\n",
              "      <td>57.50</td>\n",
              "      <td>2</td>\n",
              "    </tr>\n",
              "    <tr>\n",
              "      <th>342</th>\n",
              "      <td>45.2</td>\n",
              "      <td>14.8</td>\n",
              "      <td>21.2</td>\n",
              "      <td>52.00</td>\n",
              "      <td>2</td>\n",
              "    </tr>\n",
              "    <tr>\n",
              "      <th>343</th>\n",
              "      <td>49.9</td>\n",
              "      <td>16.1</td>\n",
              "      <td>21.3</td>\n",
              "      <td>54.00</td>\n",
              "      <td>2</td>\n",
              "    </tr>\n",
              "  </tbody>\n",
              "</table>\n",
              "<p>1368 rows × 5 columns</p>\n",
              "</div>"
            ],
            "text/plain": [
              "     culmen_length_mm  culmen_depth_mm  flipper_length_mm  body_mass_g  \\\n",
              "0                39.1             18.7               18.1        37.50   \n",
              "1                39.5             17.4               18.6        38.00   \n",
              "2                40.3             18.0               19.5        32.50   \n",
              "4                36.7             19.3               19.3        34.50   \n",
              "5                39.3             20.6               19.0        36.50   \n",
              "..                ...              ...                ...          ...   \n",
              "338              47.2             13.7               21.4        49.25   \n",
              "340              46.8             14.3               21.5        48.50   \n",
              "341              50.4             15.7               22.2        57.50   \n",
              "342              45.2             14.8               21.2        52.00   \n",
              "343              49.9             16.1               21.3        54.00   \n",
              "\n",
              "     species  \n",
              "0          0  \n",
              "1          0  \n",
              "2          0  \n",
              "4          0  \n",
              "5          0  \n",
              "..       ...  \n",
              "338        2  \n",
              "340        2  \n",
              "341        2  \n",
              "342        2  \n",
              "343        2  \n",
              "\n",
              "[1368 rows x 5 columns]"
            ]
          },
          "execution_count": 6,
          "metadata": {},
          "output_type": "execute_result"
        }
      ],
      "source": [
        "for i in range(1,3): ## 為啥要複製四遍\n",
        "    penguin_size_df = penguin_size_df.append(penguin_size_df)\n",
        "penguin_size_df"
      ]
    },
    {
      "cell_type": "code",
      "execution_count": 7,
      "metadata": {
        "colab": {
          "base_uri": "https://localhost:8080/"
        },
        "id": "Yf6KqUDsm0Ix",
        "outputId": "c0289877-365d-4f3a-eca5-9c01c0c6e390"
      },
      "outputs": [
        {
          "data": {
            "text/plain": [
              "(1368, 5)"
            ]
          },
          "execution_count": 7,
          "metadata": {},
          "output_type": "execute_result"
        }
      ],
      "source": [
        "penguin_size_df.shape"
      ]
    },
    {
      "cell_type": "markdown",
      "metadata": {
        "id": "UYtYSd8lm0Ix"
      },
      "source": [
        "## Train Test Spilt"
      ]
    },
    {
      "cell_type": "code",
      "execution_count": 8,
      "metadata": {
        "colab": {
          "base_uri": "https://localhost:8080/"
        },
        "id": "66-ne4uHm0Iy",
        "outputId": "068a3d7f-e52a-4c1d-9f8a-f14fd45b00de"
      },
      "outputs": [
        {
          "name": "stdout",
          "output_type": "stream",
          "text": [
            "Training Set: 957, Tes Set: 411 \n",
            "\n",
            "[[42.8  14.2  20.9  47.  ]\n",
            " [43.3  14.   20.8  45.75]\n",
            " [50.2  18.7  19.8  37.75]\n",
            " ...\n",
            " [53.5  19.9  20.5  45.  ]\n",
            " [50.8  19.   21.   41.  ]\n",
            " [39.1  18.7  18.1  37.5 ]]\n",
            "[2 2 1 0 0 1 2 2 2 2 0 0 1 1 0 1 0 0 0 1 2 1 1 0 1 2 1 1 2 0 2 0 2 1 2 0 0\n",
            " 2 0 2 2 0 1 2 0 1 2 2 0 1 0 0 0 2 0 2 0 1 0 0 2 0 2 2 1 0 0 0 1 2 0 2 1 1\n",
            " 0 0 2 0 2 2 1 0 0 2 2 2 1 0 0 0 2 0 1 2 1 0 1 2 2 1 0 2 0 0 2 0 1 0 0 2 2\n",
            " 1 2 2 2 0 0 0 1 0 1 0 2 1 0 2 1 2 0 0 2 0 2 0 2 0 2 0 0 2 2 2 0 1 2 1 1 0\n",
            " 1 0 2 0 2 0 2 1 0 1 0 2 0 2 2 0 0 0 2 1 2 0 1 1 0 1 2 0 2 0 0 0 0 0 0 0 1\n",
            " 1 1 0 0 0 0 2 0 0 0 0 1 1 0 1 2 2 2 0 2 1 2 1 2 0 2 0 1 1 2 1 0 0 1 0 0 2\n",
            " 0 0 2 2 0 2 0 2 0 2 1 0 0 0 1 0 2 0 0 2 0 1 0 0 0 2 1 2 2 2 1 2 2 2 0 1 0\n",
            " 2 1 2 2 0 1 0 2 2 0 1 2 0 0 0 0 0 2 0 2 1 0 2 2 0 1 1 0 0 2 2 1 2 0 0 2 1\n",
            " 0 2 1 0 2 0 0 0 0 1 2 2 2 2 1 0 0 2 2 2 2 2 1 1 2 2 1 0 0 0 2 0 0 1 2 0 0\n",
            " 2 1 2 0 0 0 0 2 0 2 0 2 0 2 2 0 2 0 1 0 2 0 0 0 0 1 0 0 0 0 0 1 0 2 0 2 0\n",
            " 0 2 0 2 2 2 2 0 2 2 1 0 1 1 0 0 0 2 2 2 0 2 2 0 1 2 2 0 2 0 0 2 2 0 1 1 0\n",
            " 2 0 0 0 0 2 2 0 2 2 2 2 0 1 0 0 0 2 2 0 2 0 0 2 0 2 0 2 2 1 2 1 1 2 0 1 0\n",
            " 2 0 2 0 0 2 0 0 0 0 2 0 2 0 0 0 1 1 2 0 2 0 2 0 1 2 1 1 0 0 2 0 1 0 0 2 0\n",
            " 1 0 0 0 0 1 0 0 0 0 1 2 2 0 0 2 2 0 0 2 0 1 0 0 0 0 2 0 1 2 0 0 1 1 2 0 0\n",
            " 0 0 2 0 2 2 0 0 2 0 1 0 0 1 2 2 0 1 2 0 2 0 0 0 0 2 0 0 1 2 0 2 2 0 2 0 0\n",
            " 1 0 2 0 1 0 2 2 1 0 2 0 2 2 2 2 1 0 0 1 2 0 2 2 1 2 0 2 2 0 1 2 2 0 2 2 2\n",
            " 0 2 2 1 1 2 0 0 2 2 0 0 0 0 0 1 1 0 0 2 0 0 1 1 2 2 2 0 2 0 1 0 2 1 2 0 2\n",
            " 0 2 0 0 1 1 2 2 0 1 1 0 2 1 2 0 2 0 1 0 0 1 0 0 1 2 0 2 2 2 0 0 0 0 2 2 2\n",
            " 2 2 1 0 0 2 2 0 0 0 2 0 0 2 0 1 0 1 2 0 2 2 1 0 0 2 0 2 0 1 2 0 0 0 0 0 1\n",
            " 1 2 0 2 2 0 1 1 2 0 1 1 2 2 0 0 0 1 2 1 0 1 1 2 0 1 0 1 1 1 2 0 0 2 2 0 0\n",
            " 2 0 1 2 0 1 0 2 1 0 2 2 0 0 1 2 1 0 2 1 2 0 1 0 1 2 0 0 2 2 2 2 2 0 0 1 0\n",
            " 0 0 0 1 2 1 2 0 2 1 1 2 0 0 2 2 2 0 1 2 0 0 0 2 0 0 1 1 2 2 0 0 2 2 1 0 2\n",
            " 0 2 0 1 2 2 0 0 1 1 2 0 0 1 0 0 2 0 0 1 0 0 0 0 2 0 0 0 2 1 0 0 2 0 0 2 0\n",
            " 0 0 0 2 1 0 0 1 2 0 2 0 0 2 1 0 1 1 0 2 0 0 2 2 0 1 1 2 0 2 0 2 0 2 1 0 2\n",
            " 2 2 0 0 0 0 0 0 2 0 2 1 2 0 0 2 2 0 0 2 0 0 0 1 1 1 2 1 2 0 1 1 2 0 2 2 0\n",
            " 2 0 2 0 2 1 0 1 0 0 2 0 0 0 1 1 1 1 0 1 0 2 2 0 2 2 0 0 1 1 1 0]\n"
          ]
        }
      ],
      "source": [
        "from sklearn.model_selection import train_test_split\n",
        "feature =['culmen_length_mm','culmen_depth_mm','flipper_length_mm','body_mass_g']\n",
        "labels = 'species'\n",
        "x_train, x_test, y_train, y_test = train_test_split(penguin_size_df[feature].values, penguin_size_df[labels].values, test_size=0.30, random_state=0)\n",
        "\n",
        "print('Training Set: %d, Tes Set: %d \\n' %(len(x_train), len(x_test)))\n",
        "print(x_train)\n",
        "print(y_train)"
      ]
    },
    {
      "cell_type": "markdown",
      "metadata": {
        "id": "5U2oor-sm0Iz"
      },
      "source": [
        "### Run with Tensorflow"
      ]
    },
    {
      "cell_type": "code",
      "execution_count": 9,
      "metadata": {
        "colab": {
          "base_uri": "https://localhost:8080/"
        },
        "id": "h-tT0EVrvLjz",
        "outputId": "40f386d0-8cb6-4a7a-c6f0-433c3a9e2cad"
      },
      "outputs": [
        {
          "name": "stdout",
          "output_type": "stream",
          "text": [
            "Libraries imported.\n",
            "Keras version: 2.11.0\n",
            "TensorFlow version: 2.11.0\n"
          ]
        }
      ],
      "source": [
        "import tensorflow\n",
        "from tensorflow import keras\n",
        "from tensorflow.keras import models\n",
        "from tensorflow.keras.models import Sequential \n",
        "from tensorflow.keras.layers import Dense\n",
        "from tensorflow.keras import utils\n",
        "from tensorflow.keras import optimizers\n",
        "# Set random seed for reproducability tensorflow.random.set_seed(0)\n",
        "print(\"Libraries imported.\")\n",
        "print('Keras version:',keras.__version__) \n",
        "print('TensorFlow version:',tensorflow.__version__)"
      ]
    },
    {
      "cell_type": "code",
      "execution_count": 10,
      "metadata": {
        "id": "eK6ZfBK9vLhc"
      },
      "outputs": [],
      "source": [
        "# Set data types for float features \n",
        "x_train = x_train.astype('float32') \n",
        "x_test = x_test.astype('float32')# Set data types for categorical labels\n",
        "y_train = utils.to_categorical(y_train) \n",
        "y_test = utils.to_categorical(y_test)"
      ]
    },
    {
      "cell_type": "code",
      "execution_count": 11,
      "metadata": {
        "colab": {
          "base_uri": "https://localhost:8080/"
        },
        "id": "suB2H3rwvLez",
        "outputId": "8587b2b3-16fe-429c-8617-4b726135abe7"
      },
      "outputs": [
        {
          "name": "stdout",
          "output_type": "stream",
          "text": [
            "Model: \"sequential\"\n",
            "_________________________________________________________________\n",
            " Layer (type)                Output Shape              Param #   \n",
            "=================================================================\n",
            " dense (Dense)               (None, 10)                50        \n",
            "                                                                 \n",
            " dense_1 (Dense)             (None, 10)                110       \n",
            "                                                                 \n",
            " dense_2 (Dense)             (None, 7)                 77        \n",
            "                                                                 \n",
            "=================================================================\n",
            "Total params: 237\n",
            "Trainable params: 237\n",
            "Non-trainable params: 0\n",
            "_________________________________________________________________\n",
            "None\n"
          ]
        }
      ],
      "source": [
        "model = Sequential()\n",
        "model.add(Dense(10, input_dim=len(feature),activation='relu'))\n",
        "model.add(Dense(10, input_dim=10,activation='relu')) \n",
        "model.add(Dense(len(labels), input_dim=10, activation='softmax'))\n",
        "print(model.summary())"
      ]
    },
    {
      "cell_type": "code",
      "execution_count": 13,
      "metadata": {
        "colab": {
          "base_uri": "https://localhost:8080/",
          "height": 763
        },
        "id": "bGwKRpgIvLZj",
        "outputId": "af9bbe4c-ae95-4518-dbb0-ea0b7f1fd178"
      },
      "outputs": [
        {
          "name": "stdout",
          "output_type": "stream",
          "text": [
            "Epoch 1/50\n"
          ]
        },
        {
          "ename": "ValueError",
          "evalue": "in user code:\n\n    File \"C:\\Users\\a1314\\AppData\\Local\\Packages\\PythonSoftwareFoundation.Python.3.10_qbz5n2kfra8p0\\LocalCache\\local-packages\\Python310\\site-packages\\keras\\engine\\training.py\", line 1249, in train_function  *\n        return step_function(self, iterator)\n    File \"C:\\Users\\a1314\\AppData\\Local\\Packages\\PythonSoftwareFoundation.Python.3.10_qbz5n2kfra8p0\\LocalCache\\local-packages\\Python310\\site-packages\\keras\\engine\\training.py\", line 1233, in step_function  **\n        outputs = model.distribute_strategy.run(run_step, args=(data,))\n    File \"C:\\Users\\a1314\\AppData\\Local\\Packages\\PythonSoftwareFoundation.Python.3.10_qbz5n2kfra8p0\\LocalCache\\local-packages\\Python310\\site-packages\\keras\\engine\\training.py\", line 1222, in run_step  **\n        outputs = model.train_step(data)\n    File \"C:\\Users\\a1314\\AppData\\Local\\Packages\\PythonSoftwareFoundation.Python.3.10_qbz5n2kfra8p0\\LocalCache\\local-packages\\Python310\\site-packages\\keras\\engine\\training.py\", line 1024, in train_step\n        loss = self.compute_loss(x, y, y_pred, sample_weight)\n    File \"C:\\Users\\a1314\\AppData\\Local\\Packages\\PythonSoftwareFoundation.Python.3.10_qbz5n2kfra8p0\\LocalCache\\local-packages\\Python310\\site-packages\\keras\\engine\\training.py\", line 1082, in compute_loss\n        return self.compiled_loss(\n    File \"C:\\Users\\a1314\\AppData\\Local\\Packages\\PythonSoftwareFoundation.Python.3.10_qbz5n2kfra8p0\\LocalCache\\local-packages\\Python310\\site-packages\\keras\\engine\\compile_utils.py\", line 265, in __call__\n        loss_value = loss_obj(y_t, y_p, sample_weight=sw)\n    File \"C:\\Users\\a1314\\AppData\\Local\\Packages\\PythonSoftwareFoundation.Python.3.10_qbz5n2kfra8p0\\LocalCache\\local-packages\\Python310\\site-packages\\keras\\losses.py\", line 152, in __call__\n        losses = call_fn(y_true, y_pred)\n    File \"C:\\Users\\a1314\\AppData\\Local\\Packages\\PythonSoftwareFoundation.Python.3.10_qbz5n2kfra8p0\\LocalCache\\local-packages\\Python310\\site-packages\\keras\\losses.py\", line 284, in call  **\n        return ag_fn(y_true, y_pred, **self._fn_kwargs)\n    File \"C:\\Users\\a1314\\AppData\\Local\\Packages\\PythonSoftwareFoundation.Python.3.10_qbz5n2kfra8p0\\LocalCache\\local-packages\\Python310\\site-packages\\keras\\losses.py\", line 2004, in categorical_crossentropy\n        return backend.categorical_crossentropy(\n    File \"C:\\Users\\a1314\\AppData\\Local\\Packages\\PythonSoftwareFoundation.Python.3.10_qbz5n2kfra8p0\\LocalCache\\local-packages\\Python310\\site-packages\\keras\\backend.py\", line 5532, in categorical_crossentropy\n        target.shape.assert_is_compatible_with(output.shape)\n\n    ValueError: Shapes (None, 3) and (None, 7) are incompatible\n",
          "output_type": "error",
          "traceback": [
            "\u001b[1;31m---------------------------------------------------------------------------\u001b[0m",
            "\u001b[1;31mValueError\u001b[0m                                Traceback (most recent call last)",
            "\u001b[1;32mc:\\Graduate_school\\github_desktop\\Graduate_semester_one\\Deep_Learning_Ad_Hoc\\Liao_Professor\\1211\\HW2_Penguin_Classification\\By_Tensorflow\\tensorflow.ipynb 儲存格 14\u001b[0m in \u001b[0;36m<cell line: 8>\u001b[1;34m()\u001b[0m\n\u001b[0;32m      <a href='vscode-notebook-cell:/c%3A/Graduate_school/github_desktop/Graduate_semester_one/Deep_Learning_Ad_Hoc/Liao_Professor/1211/HW2_Penguin_Classification/By_Tensorflow/tensorflow.ipynb#X16sZmlsZQ%3D%3D?line=5'>6</a>\u001b[0m \u001b[39m# we will do 50 sets of run and in epochs, 10 will be the batch size\u001b[39;00m\n\u001b[0;32m      <a href='vscode-notebook-cell:/c%3A/Graduate_school/github_desktop/Graduate_semester_one/Deep_Learning_Ad_Hoc/Liao_Professor/1211/HW2_Penguin_Classification/By_Tensorflow/tensorflow.ipynb#X16sZmlsZQ%3D%3D?line=6'>7</a>\u001b[0m num_epochs \u001b[39m=\u001b[39m \u001b[39m50\u001b[39m\n\u001b[1;32m----> <a href='vscode-notebook-cell:/c%3A/Graduate_school/github_desktop/Graduate_semester_one/Deep_Learning_Ad_Hoc/Liao_Professor/1211/HW2_Penguin_Classification/By_Tensorflow/tensorflow.ipynb#X16sZmlsZQ%3D%3D?line=7'>8</a>\u001b[0m history \u001b[39m=\u001b[39m model\u001b[39m.\u001b[39;49mfit(x_train, y_train, epochs\u001b[39m=\u001b[39;49mnum_epochs,batch_size\u001b[39m=\u001b[39;49m\u001b[39m10\u001b[39;49m,validation_data\u001b[39m=\u001b[39;49m(x_test, y_test))\n",
            "File \u001b[1;32m~\\AppData\\Local\\Packages\\PythonSoftwareFoundation.Python.3.10_qbz5n2kfra8p0\\LocalCache\\local-packages\\Python310\\site-packages\\keras\\utils\\traceback_utils.py:70\u001b[0m, in \u001b[0;36mfilter_traceback.<locals>.error_handler\u001b[1;34m(*args, **kwargs)\u001b[0m\n\u001b[0;32m     67\u001b[0m     filtered_tb \u001b[39m=\u001b[39m _process_traceback_frames(e\u001b[39m.\u001b[39m__traceback__)\n\u001b[0;32m     68\u001b[0m     \u001b[39m# To get the full stack trace, call:\u001b[39;00m\n\u001b[0;32m     69\u001b[0m     \u001b[39m# `tf.debugging.disable_traceback_filtering()`\u001b[39;00m\n\u001b[1;32m---> 70\u001b[0m     \u001b[39mraise\u001b[39;00m e\u001b[39m.\u001b[39mwith_traceback(filtered_tb) \u001b[39mfrom\u001b[39;00m \u001b[39mNone\u001b[39m\n\u001b[0;32m     71\u001b[0m \u001b[39mfinally\u001b[39;00m:\n\u001b[0;32m     72\u001b[0m     \u001b[39mdel\u001b[39;00m filtered_tb\n",
            "File \u001b[1;32m~\\AppData\\Local\\Temp\\__autograph_generated_filedlmifmxn.py:15\u001b[0m, in \u001b[0;36mouter_factory.<locals>.inner_factory.<locals>.tf__train_function\u001b[1;34m(iterator)\u001b[0m\n\u001b[0;32m     13\u001b[0m \u001b[39mtry\u001b[39;00m:\n\u001b[0;32m     14\u001b[0m     do_return \u001b[39m=\u001b[39m \u001b[39mTrue\u001b[39;00m\n\u001b[1;32m---> 15\u001b[0m     retval_ \u001b[39m=\u001b[39m ag__\u001b[39m.\u001b[39mconverted_call(ag__\u001b[39m.\u001b[39mld(step_function), (ag__\u001b[39m.\u001b[39mld(\u001b[39mself\u001b[39m), ag__\u001b[39m.\u001b[39mld(iterator)), \u001b[39mNone\u001b[39;00m, fscope)\n\u001b[0;32m     16\u001b[0m \u001b[39mexcept\u001b[39;00m:\n\u001b[0;32m     17\u001b[0m     do_return \u001b[39m=\u001b[39m \u001b[39mFalse\u001b[39;00m\n",
            "\u001b[1;31mValueError\u001b[0m: in user code:\n\n    File \"C:\\Users\\a1314\\AppData\\Local\\Packages\\PythonSoftwareFoundation.Python.3.10_qbz5n2kfra8p0\\LocalCache\\local-packages\\Python310\\site-packages\\keras\\engine\\training.py\", line 1249, in train_function  *\n        return step_function(self, iterator)\n    File \"C:\\Users\\a1314\\AppData\\Local\\Packages\\PythonSoftwareFoundation.Python.3.10_qbz5n2kfra8p0\\LocalCache\\local-packages\\Python310\\site-packages\\keras\\engine\\training.py\", line 1233, in step_function  **\n        outputs = model.distribute_strategy.run(run_step, args=(data,))\n    File \"C:\\Users\\a1314\\AppData\\Local\\Packages\\PythonSoftwareFoundation.Python.3.10_qbz5n2kfra8p0\\LocalCache\\local-packages\\Python310\\site-packages\\keras\\engine\\training.py\", line 1222, in run_step  **\n        outputs = model.train_step(data)\n    File \"C:\\Users\\a1314\\AppData\\Local\\Packages\\PythonSoftwareFoundation.Python.3.10_qbz5n2kfra8p0\\LocalCache\\local-packages\\Python310\\site-packages\\keras\\engine\\training.py\", line 1024, in train_step\n        loss = self.compute_loss(x, y, y_pred, sample_weight)\n    File \"C:\\Users\\a1314\\AppData\\Local\\Packages\\PythonSoftwareFoundation.Python.3.10_qbz5n2kfra8p0\\LocalCache\\local-packages\\Python310\\site-packages\\keras\\engine\\training.py\", line 1082, in compute_loss\n        return self.compiled_loss(\n    File \"C:\\Users\\a1314\\AppData\\Local\\Packages\\PythonSoftwareFoundation.Python.3.10_qbz5n2kfra8p0\\LocalCache\\local-packages\\Python310\\site-packages\\keras\\engine\\compile_utils.py\", line 265, in __call__\n        loss_value = loss_obj(y_t, y_p, sample_weight=sw)\n    File \"C:\\Users\\a1314\\AppData\\Local\\Packages\\PythonSoftwareFoundation.Python.3.10_qbz5n2kfra8p0\\LocalCache\\local-packages\\Python310\\site-packages\\keras\\losses.py\", line 152, in __call__\n        losses = call_fn(y_true, y_pred)\n    File \"C:\\Users\\a1314\\AppData\\Local\\Packages\\PythonSoftwareFoundation.Python.3.10_qbz5n2kfra8p0\\LocalCache\\local-packages\\Python310\\site-packages\\keras\\losses.py\", line 284, in call  **\n        return ag_fn(y_true, y_pred, **self._fn_kwargs)\n    File \"C:\\Users\\a1314\\AppData\\Local\\Packages\\PythonSoftwareFoundation.Python.3.10_qbz5n2kfra8p0\\LocalCache\\local-packages\\Python310\\site-packages\\keras\\losses.py\", line 2004, in categorical_crossentropy\n        return backend.categorical_crossentropy(\n    File \"C:\\Users\\a1314\\AppData\\Local\\Packages\\PythonSoftwareFoundation.Python.3.10_qbz5n2kfra8p0\\LocalCache\\local-packages\\Python310\\site-packages\\keras\\backend.py\", line 5532, in categorical_crossentropy\n        target.shape.assert_is_compatible_with(output.shape)\n\n    ValueError: Shapes (None, 3) and (None, 7) are incompatible\n"
          ]
        }
      ],
      "source": [
        "learning_rate = 0.001 # learning rate \n",
        "opt = optimizers.Adam(learning_rate)\n",
        "# model optimizer\n",
        "# compiling the model with CC loss and optimizer! Alongwith Acc. metrics! \n",
        "model.compile(loss='categorical_crossentropy',optimizer=opt, metrics=['accuracy'])\n",
        "# we will do 50 sets of run and in epochs, 10 will be the batch size\n",
        "num_epochs = 50\n",
        "history = model.fit(x_train, y_train, epochs=num_epochs,batch_size=10,validation_data=(x_test, y_test))"
      ]
    },
    {
      "cell_type": "code",
      "execution_count": 14,
      "metadata": {
        "colab": {
          "base_uri": "https://localhost:8080/",
          "height": 236
        },
        "id": "ad7NmlSfvLWz",
        "outputId": "6f938e95-5224-4a01-f370-259d517c3e1d"
      },
      "outputs": [
        {
          "ename": "NameError",
          "evalue": "name 'history' is not defined",
          "output_type": "error",
          "traceback": [
            "\u001b[1;31m---------------------------------------------------------------------------\u001b[0m",
            "\u001b[1;31mNameError\u001b[0m                                 Traceback (most recent call last)",
            "\u001b[1;32mc:\\Graduate_school\\github_desktop\\Graduate_semester_one\\Deep_Learning_Ad_Hoc\\Liao_Professor\\1211\\HW2_Penguin_Classification\\By_Tensorflow\\tensorflow.ipynb 儲存格 15\u001b[0m in \u001b[0;36m<cell line: 4>\u001b[1;34m()\u001b[0m\n\u001b[0;32m      <a href='vscode-notebook-cell:/c%3A/Graduate_school/github_desktop/Graduate_semester_one/Deep_Learning_Ad_Hoc/Liao_Professor/1211/HW2_Penguin_Classification/By_Tensorflow/tensorflow.ipynb#X20sZmlsZQ%3D%3D?line=1'>2</a>\u001b[0m \u001b[39mfrom\u001b[39;00m \u001b[39mmatplotlib\u001b[39;00m \u001b[39mimport\u001b[39;00m pyplot \u001b[39mas\u001b[39;00m plt\n\u001b[0;32m      <a href='vscode-notebook-cell:/c%3A/Graduate_school/github_desktop/Graduate_semester_one/Deep_Learning_Ad_Hoc/Liao_Professor/1211/HW2_Penguin_Classification/By_Tensorflow/tensorflow.ipynb#X20sZmlsZQ%3D%3D?line=2'>3</a>\u001b[0m epoch_nums \u001b[39m=\u001b[39m \u001b[39mrange\u001b[39m(\u001b[39m1\u001b[39m,num_epochs\u001b[39m+\u001b[39m\u001b[39m1\u001b[39m) \n\u001b[1;32m----> <a href='vscode-notebook-cell:/c%3A/Graduate_school/github_desktop/Graduate_semester_one/Deep_Learning_Ad_Hoc/Liao_Professor/1211/HW2_Penguin_Classification/By_Tensorflow/tensorflow.ipynb#X20sZmlsZQ%3D%3D?line=3'>4</a>\u001b[0m training_loss \u001b[39m=\u001b[39m history\u001b[39m.\u001b[39mhistory[\u001b[39m\"\u001b[39m\u001b[39mloss\u001b[39m\u001b[39m\"\u001b[39m] \n\u001b[0;32m      <a href='vscode-notebook-cell:/c%3A/Graduate_school/github_desktop/Graduate_semester_one/Deep_Learning_Ad_Hoc/Liao_Professor/1211/HW2_Penguin_Classification/By_Tensorflow/tensorflow.ipynb#X20sZmlsZQ%3D%3D?line=4'>5</a>\u001b[0m validation_loss \u001b[39m=\u001b[39m history\u001b[39m.\u001b[39mhistory[\u001b[39m\"\u001b[39m\u001b[39mval_loss\u001b[39m\u001b[39m\"\u001b[39m] \n\u001b[0;32m      <a href='vscode-notebook-cell:/c%3A/Graduate_school/github_desktop/Graduate_semester_one/Deep_Learning_Ad_Hoc/Liao_Professor/1211/HW2_Penguin_Classification/By_Tensorflow/tensorflow.ipynb#X20sZmlsZQ%3D%3D?line=5'>6</a>\u001b[0m plt\u001b[39m.\u001b[39mplot(epoch_nums, training_loss) \n",
            "\u001b[1;31mNameError\u001b[0m: name 'history' is not defined"
          ]
        }
      ],
      "source": [
        "%matplotlib inline\n",
        "from matplotlib import pyplot as plt\n",
        "epoch_nums = range(1,num_epochs+1) \n",
        "training_loss = history.history[\"loss\"] \n",
        "validation_loss = history.history[\"val_loss\"] \n",
        "plt.plot(epoch_nums, training_loss) \n",
        "plt.plot(epoch_nums, validation_loss) \n",
        "plt.xlabel('epoch')\n",
        "plt.ylabel('loss')\n",
        "plt.legend(['training', 'validation'], \n",
        "loc='upper right')\n",
        "plt.show()"
      ]
    },
    {
      "cell_type": "code",
      "execution_count": 15,
      "metadata": {
        "colab": {
          "base_uri": "https://localhost:8080/",
          "height": 132
        },
        "id": "uCSTz9LTvjIb",
        "outputId": "96c940f1-8d8f-426b-ac9a-6e1d5cab4743"
      },
      "outputs": [
        {
          "ename": "SyntaxError",
          "evalue": "invalid character '‘' (U+2018) (120377293.py, line 3)",
          "output_type": "error",
          "traceback": [
            "\u001b[1;36m  Input \u001b[1;32mIn [15]\u001b[1;36m\u001b[0m\n\u001b[1;33m    biases = layer.get_weights()[1] print(‘ — — — — — —\u001b[0m\n\u001b[1;37m                                          ^\u001b[0m\n\u001b[1;31mSyntaxError\u001b[0m\u001b[1;31m:\u001b[0m invalid character '‘' (U+2018)\n"
          ]
        }
      ],
      "source": [
        "for layer in model.layers: \n",
        "  weights = layer.get_weights()[0]\n",
        "  biases = layer.get_weights()[1] print(‘ — — — — — —\n",
        "  \\nWeights:\\n’,weights,’\\nBiases:\\n’, biases)"
      ]
    },
    {
      "cell_type": "code",
      "execution_count": 17,
      "metadata": {
        "colab": {
          "base_uri": "https://localhost:8080/",
          "height": 293
        },
        "id": "LEp7Ju9yvjFr",
        "outputId": "0340e1ac-ce21-407d-c45d-691e7f370cf4"
      },
      "outputs": [
        {
          "name": "stdout",
          "output_type": "stream",
          "text": [
            "13/13 [==============================] - 0s 831us/step\n"
          ]
        },
        {
          "data": {
            "image/png": "[encoded data removed]",
            "text/plain": [
              "<Figure size 432x288 with 2 Axes>"
            ]
          },
          "metadata": {
            "needs_background": "light"
          },
          "output_type": "display_data"
        }
      ],
      "source": [
        "import numpy as np\n",
        "from sklearn.metrics import confusion_matrix \n",
        "import matplotlib.pyplot as plt\n",
        "%matplotlib inline\n",
        "class_probabilities = model.predict(x_test) \n",
        "predictions = np.argmax(class_probabilities, axis=1) \n",
        "true_labels = np.argmax(y_test, axis=1)\n",
        "# Plot the confusion matrix\n",
        "cm = confusion_matrix(true_labels, predictions) \n",
        "plt.imshow(cm, interpolation=\"nearest\", cmap=plt.cm.Blues)\n",
        "plt.colorbar()\n",
        "tick_marks = np.arange(len(labels)) \n",
        "plt.xticks(tick_marks, labels, rotation=85) \n",
        "plt.yticks(tick_marks, labels) \n",
        "plt.xlabel(\"Actual Class\")\n",
        "plt.ylabel(\"Predicted Class\")\n",
        "plt.show()"
      ]
    }
  ],
  "metadata": {
    "colab": {
      "provenance": [],
      "toc_visible": true
    },
    "kernelspec": {
      "display_name": "Python 3",
      "language": "python",
      "name": "python3"
    },
    "language_info": {
      "codemirror_mode": {
        "name": "ipython",
        "version": 3
      },
      "file_extension": ".py",
      "mimetype": "text/x-python",
      "name": "python",
      "nbconvert_exporter": "python",
      "pygments_lexer": "ipython3",
      "version": "3.10.9 (tags/v3.10.9:1dd9be6, Dec  6 2022, 20:01:21) [MSC v.1934 64 bit (AMD64)]"
    },
    "orig_nbformat": 4,
    "vscode": {
      "interpreter": {
        "hash": "8a85b7bf7c779ed67bccf8ae1048f09ef25809d9114b21b047a7bffa30bad8e0"
      }
    }
  },
  "nbformat": 4,
  "nbformat_minor": 0
}
