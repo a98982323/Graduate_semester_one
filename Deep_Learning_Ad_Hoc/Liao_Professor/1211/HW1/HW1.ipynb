{
 "cells": [
  {
   "attachments": {},
   "cell_type": "markdown",
   "metadata": {},
   "source": [
    "## 1.1 Find out an example about the machine learning life cycle"
   ]
  },
  {
   "attachments": {},
   "cell_type": "markdown",
   "metadata": {},
   "source": [
    "\n",
    "Ref: \n",
    "https://www.datarobot.com/wiki/machine-learning-life-cycle/\n"
   ]
  },
  {
   "attachments": {},
   "cell_type": "markdown",
   "metadata": {},
   "source": [
    "#### The following steps are a example of how a hospital might use machine learning to improve both patient outcomes and ROI(retrun on investment)"
   ]
  },
  {
   "attachments": {},
   "cell_type": "markdown",
   "metadata": {},
   "source": [
    "##### 1. Define Project Objectives  \n",
    "Life cycle 的第一步是確定一個明顯改善運營、提高客戶滿意度或以其他方式創造價值的機會。在醫療行業，出院的病人有時會出現一些情況，需要他們返回醫院。除了對病人來說是危險和麻煩之外，這些再入院意味著醫院將花費額外的時間和資源來第二次治療病人。不僅如此，如果病人在出院後30天內再入院，醫院會被罰款。為了避免這些罰款，並防止病人花額外的時間在病床上，或遭受可能危及生命的復發，醫院希望利用病人的數據來了解哪些因素導致未來並發症的概率高，以便採取預防措施。"
   ]
  },
  {
   "attachments": {},
   "cell_type": "markdown",
   "metadata": {},
   "source": [
    "##### 2. Acquire and Explore Data  \n",
    "下一步是收集和准备用于机器学习的所有相关数据。这意味着咨询医学领域的专家，以确定哪些数据可能与预测再入院率有关，从历史病人记录中收集这些数据，并将其转化为适合分析的格式，很可能是扁平文件格式，如.csv。"
   ]
  },
  {
   "attachments": {},
   "cell_type": "markdown",
   "metadata": {},
   "source": [
    "##### 3. Model Data  \n",
    "為了通過機器學習從數據中獲得洞察力，你必須確定你的目標變量，即你希望獲得更深入理解的因素。在這種情況下，醫院將選擇 \"再入院\"，它在數據收集期間將其作為歷史數據集的一個特徵。然後，醫院將在數據集上運行機器學習算法，建立模型，從歷史數據中通過實例學習。最後，醫院將訓練有素的模型運行在模型尚未訓練過的數據上，以預測新病人是否有可能再次入院，從而使醫院能夠做出更好的病人護理決策。"
   ]
  },
  {
   "attachments": {},
   "cell_type": "markdown",
   "metadata": {},
   "source": [
    "##### 4.Interpret and Communicate  \n",
    "機器學習項目最困難的任務之一是向沒有任何數據科學背景的人解釋模型的結果，特別是在醫療保健等高度監管的行業。傳統上，機器學習被認為是一個 \"黑盒子\"，因為它很難解釋見解，也很難向利益相關者和監管機構傳達這些見解的價值。你的模型的可解釋性越強，就越容易滿足監管要求，並將其價值傳達給管理層和其他關鍵利益相關者。"
   ]
  },
  {
   "attachments": {},
   "cell_type": "markdown",
   "metadata": {},
   "source": [
    "##### 5. Implement, Document, and Maintain  \n",
    "最後一步是實施、記錄和維護數據科學項目，以便醫院能夠繼續利用和改進其模型。模型的部署往往會帶來問題，因為它需要編碼和數據科學經驗，而且從使用傳統數據科學方法的周期開始，實施的時間太長。"
   ]
  },
  {
   "attachments": {},
   "cell_type": "markdown",
   "metadata": {},
   "source": [
    "## 1.2 Find out and example about the artificial intelligence strategy"
   ]
  },
  {
   "attachments": {},
   "cell_type": "markdown",
   "metadata": {},
   "source": [
    "Ref : https://bernardmarr.com/how-to-develop-an-artificial-intelligence-strategy-9-things-every-business-must-include/"
   ]
  },
  {
   "attachments": {},
   "cell_type": "markdown",
   "metadata": {},
   "source": [
    "There are 9 things that every bunsiness must include which can regard as AL strategy."
   ]
  },
  {
   "attachments": {},
   "cell_type": "markdown",
   "metadata": {},
   "source": [
    "### 1. Business strategy  \n",
    "\n",
    "為人工智能而創建一個人工智能戰略不會產生巨大的結果。為了最大限度地利用人工智能，它必須與你的業務戰略和你的大視野戰略目標相聯繫。這就是為什麼任何人工智能戰略的第一步是審查你的業務戰略。 (畢竟，你不想費盡心機，將人工智能應用於一個過時的戰略或不相關的業務目標）。  \n",
    "\n",
    "在這一步驟中，要問自己一些問題，比如。  \n",
    "\n",
    "* 我們的商業戰略是否仍然適合我們？  \n",
    "* 在這個更智能的產品和服務的世界裡，我們的戰略仍然是最新的嗎？  \n",
    "* 我們的業務人員是否已經改變？  "
   ]
  },
  {
   "attachments": {},
   "cell_type": "markdown",
   "metadata": {},
   "source": [
    "### 2.  Strategic AI priorities  \n",
    "現在，你絕對清楚你的企業的發展方向，你可以開始確定人工智能如何幫助你達到目標。  \n",
    "\n",
    "換句話說。  \n",
    "\n",
    "* 我們的頂級業務專家是什麼？\n",
    "* 我們想要或需要解決什麼問題？\n",
    "* 人工智能如何能幫助我們實現我們的戰略目標？\n",
    "你在這個階段確定的人工智能優先事項就是你的用例。為了確保你的人工智能戰略是集中和可實現的，我堅持不超過3-5個人工智能用例。\n",
    "\n",
    "人工智能優先事項或用例的例子包括。\n",
    "\n",
    "* 開發更智能的產品和服務\n",
    "* 使業務流程和功能（如會計、銷售和人力資源）更加智能化\n",
    "* 將重複性或平凡的任務自動化，以解放人們從事更有價值的活動\n",
    "* 實現製造過程的自動化"
   ]
  },
  {
   "attachments": {},
   "cell_type": "markdown",
   "metadata": {},
   "source": [
    "### 3. Short-term AI adoption priorities  \n",
    "轉變產品、服務或流程永遠不會是一夜之間的事。它可能需要一些時間來實現你所確定的用例。出於這個原因，我發現確定幾個（不超過三個）人工智能速贏項目是有幫助的--短期的人工智能優先事項將幫助你展示價值並獲得更大的人工智能項目的支持。\n",
    "\n",
    "問問自己。\n",
    "\n",
    "* 是否有機會以快速、相對便宜的方式來優化流程？\n",
    "* 哪些較小的步驟和項目可以幫助我們收集信息或為我們更大的人工智能優先事項奠定基礎？\n",
    "接下來，對於你在上述步驟中確定的每個人工智能優先事項或用例，你需要通過以下考慮。"
   ]
  },
  {
   "attachments": {},
   "cell_type": "markdown",
   "metadata": {},
   "source": [
    "### 4. Data strategy \n",
    "AI需要資料來工作。很多很多的資料。因此，你需要審查與每個人工智能用例有關的資料戰略，並確定關鍵的資料問題。\n",
    "\n",
    "這包括。\n",
    "\n",
    "* 我們是否有正確的資料來實現我們的人工智慧優先事項？\n",
    "* 我們有足夠的資料嗎？\n",
    "* 如果我們沒有正確的資料類型或數量，我們將如何獲得我們需要的資料？\n",
    "* 我們是否必須建立新的資料收集方法，或者我們將使用第三方的資料？\n",
    "* 展望未來，我們如何開始以更有戰略性的方式獲取資料？"
   ]
  },
  {
   "attachments": {},
   "cell_type": "markdown",
   "metadata": {},
   "source": [
    "### 5. Ethical and legal issues  \n",
    "讓我們不要拐彎抹角：超級智能機器的想法讓人們感到害怕。因此，你在應用人工智能時，一定要符合道德規範，光明正大。\n",
    "\n",
    "在這裡，你需要問自己這樣的問題。\n",
    "\n",
    "* 我們如何才能避免侵犯人們的隱私？\n",
    "* 以這種方式使用人工智能是否有任何法律問題？\n",
    "* 我們需要得到客戶/用戶/員工的哪種同意？\n",
    "* 我們怎樣才能確保我們的人工智能沒有偏見和歧視？  \n",
    "\n",
    "人工智能的倫理影響是目前的一個巨大的話題。值得注意的是，包括谷歌、微軟、IBM、Facebook和亞馬遜在內的科技巨頭已經成立了人工智能夥伴關係，這個團體致力於研究和倡導人工智能的道德使用。"
   ]
  },
  {
   "attachments": {},
   "cell_type": "markdown",
   "metadata": {},
   "source": [
    "### 6.  Technology issues  \n",
    "在這裡，你要確定到目前為止你所做的決定對技術和基礎設施的影響。\n",
    "\n",
    "考慮一下。\n",
    "\n",
    "* 需要什麼技術來實現我們的人工智能優先事項（例如，機器學習、深度學習、強化學習等）？\n",
    "* 我們是否已經有了合適的技術？\n",
    "* 如果沒有，我們需要建立什麼系統？"
   ]
  },
  {
   "attachments": {},
   "cell_type": "markdown",
   "metadata": {},
   "source": [
    "### 7. Skills and capacity  \n",
    "對於那些不是Facebook或谷歌的公司來說，獲得AI技能可能是一個真正的挑戰。因此，這一步是審查你的內部人工智能技能和能力，並找出你需要注入技能的地方。\n",
    "\n",
    "比如說。\n",
    "\n",
    "* 我們的技能差距在哪裡？\n",
    "* 為了填補這些差距，我們是否需要雇用新的人才、培訓現有員工、與外部人工智能供應商合作或收購新的企業？\n",
    "* 我們是否有來自領導層和企業其他層面對人工智能的認識和認同？\n",
    "* 我們可以做些什麼來提高意識和促進買入？"
   ]
  },
  {
   "attachments": {},
   "cell_type": "markdown",
   "metadata": {},
   "source": [
    "### 8.  Implementation  \n",
    "在這裡，你需要考慮如何將你的人工智能戰略變成現實。\n",
    "\n",
    "這可能會出現一些問題，例如。\n",
    "\n",
    "* 我們將如何交付我們的人工智能項目？\n",
    "* 接下來的關鍵步驟是什麼？\n",
    "* 誰負責交付每個行動？\n",
    "* 哪些行動或項目需要外包？"
   ]
  },
  {
   "attachments": {},
   "cell_type": "markdown",
   "metadata": {},
   "source": [
    "### 9.  Change management issues  \n",
    "因為人們對人工智能非常警惕，特別是它對他們的工作可能意味著什麼，所以變革管理是任何人工智能項目的一個真正重要的部分。\n",
    "\n",
    "示例問題包括。\n",
    "\n",
    "* 哪些員工和團隊會受到這個人工智能項目的影響？\n",
    "* 我們怎樣才能與這些人有效地溝通變化？\n",
    "* 應該如何管理變革過程？\n",
    "* 人工智能將如何改變我們的公司文化，以及我們將如何管理這種文化變化？"
   ]
  }
 ],
 "metadata": {
  "kernelspec": {
   "display_name": "Python 3",
   "language": "python",
   "name": "python3"
  },
  "language_info": {
   "name": "python",
   "version": "3.10.9 (tags/v3.10.9:1dd9be6, Dec  6 2022, 20:01:21) [MSC v.1934 64 bit (AMD64)]"
  },
  "orig_nbformat": 4,
  "vscode": {
   "interpreter": {
    "hash": "8a85b7bf7c779ed67bccf8ae1048f09ef25809d9114b21b047a7bffa30bad8e0"
   }
  }
 },
 "nbformat": 4,
 "nbformat_minor": 2
}
